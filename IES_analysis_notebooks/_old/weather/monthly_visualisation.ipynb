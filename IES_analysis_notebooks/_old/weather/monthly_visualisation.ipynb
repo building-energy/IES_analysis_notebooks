{
 "cells": [
  {
   "cell_type": "markdown",
   "metadata": {},
   "source": [
    "# monthly_visualisation\n",
    "\n",
    "This notebook visualises the monthly data of an IES weather .txt file.\n",
    "\n",
    "Use ***Shift-Enter*** or ***Ctrl-Enter*** to run the code cells.\n",
    "\n",
    "The notebook creates plots in the notebook itself and it also saves these plots in the folder 'monthly_visualisation_outputs'.\n",
    "\n",
    "The notebook creates plots for one weather variable at a time. This variable can be changed in Step 4."
   ]
  },
  {
   "cell_type": "markdown",
   "metadata": {},
   "source": [
    "## Step 1: Choose the file to visualise\n",
    "\n",
    "The weather data in IES VistaPro can be exported using the Save icon when viewing a table. To do this:\n",
    "\n",
    "- Run an IES simulation\n",
    "- Go to the VistaPro results module\n",
    "- Select the weather data variables of interest\n",
    "- View these variable in a table\n",
    "- Click on the ***save*** icon to export this data as a .txt file.\n",
    "\n",
    "The name/path for the IES weather .txt file can then be specified in the code cell below."
   ]
  },
  {
   "cell_type": "code",
   "execution_count": 1,
   "metadata": {},
   "outputs": [],
   "source": [
    "filename='MyWeather.txt'"
   ]
  },
  {
   "cell_type": "markdown",
   "metadata": {},
   "source": [
    "## Step 2: Run the code below to import the file"
   ]
  },
  {
   "cell_type": "code",
   "execution_count": 2,
   "metadata": {},
   "outputs": [
    {
     "name": "stdout",
     "output_type": "stream",
     "text": [
      "UNITS: {'External dew-point temp.': '°C', 'Global radiation': 'W/m²', 'Max. adaptive temp.': '°C', 'Daily running mean temp.': '°C', 'Direct radiation': 'W/m²', 'Wet-bulb temperature': '°C', 'Wind speed': 'm/s', 'Solar azimuth': 'deg.', 'Diffuse radiation': 'W/m²', 'Dry-bulb temperature': '°C'}\n"
     ]
    },
    {
     "data": {
      "text/html": [
       "<div>\n",
       "<style scoped>\n",
       "    .dataframe tbody tr th:only-of-type {\n",
       "        vertical-align: middle;\n",
       "    }\n",
       "\n",
       "    .dataframe tbody tr th {\n",
       "        vertical-align: top;\n",
       "    }\n",
       "\n",
       "    .dataframe thead th {\n",
       "        text-align: right;\n",
       "    }\n",
       "</style>\n",
       "<table border=\"1\" class=\"dataframe\">\n",
       "  <thead>\n",
       "    <tr style=\"text-align: right;\">\n",
       "      <th></th>\n",
       "      <th>External dew-point temp.</th>\n",
       "      <th>Global radiation</th>\n",
       "      <th>Max. adaptive temp.</th>\n",
       "      <th>Daily running mean temp.</th>\n",
       "      <th>Direct radiation</th>\n",
       "      <th>Wet-bulb temperature</th>\n",
       "      <th>Wind speed</th>\n",
       "      <th>Solar azimuth</th>\n",
       "      <th>Diffuse radiation</th>\n",
       "      <th>Dry-bulb temperature</th>\n",
       "    </tr>\n",
       "    <tr>\n",
       "      <th>datetime</th>\n",
       "      <th></th>\n",
       "      <th></th>\n",
       "      <th></th>\n",
       "      <th></th>\n",
       "      <th></th>\n",
       "      <th></th>\n",
       "      <th></th>\n",
       "      <th></th>\n",
       "      <th></th>\n",
       "      <th></th>\n",
       "    </tr>\n",
       "  </thead>\n",
       "  <tbody>\n",
       "    <tr>\n",
       "      <th>2003-01-01 00:30:00</th>\n",
       "      <td>NaN</td>\n",
       "      <td>NaN</td>\n",
       "      <td>NaN</td>\n",
       "      <td>NaN</td>\n",
       "      <td>NaN</td>\n",
       "      <td>NaN</td>\n",
       "      <td>NaN</td>\n",
       "      <td>NaN</td>\n",
       "      <td>NaN</td>\n",
       "      <td>NaN</td>\n",
       "    </tr>\n",
       "    <tr>\n",
       "      <th>2003-01-01 01:30:00</th>\n",
       "      <td>2.08</td>\n",
       "      <td>0.0</td>\n",
       "      <td>23.02</td>\n",
       "      <td>3.69</td>\n",
       "      <td>0.0</td>\n",
       "      <td>3.6</td>\n",
       "      <td>5.0</td>\n",
       "      <td>25.7</td>\n",
       "      <td>0.0</td>\n",
       "      <td>4.8</td>\n",
       "    </tr>\n",
       "    <tr>\n",
       "      <th>2003-01-01 02:30:00</th>\n",
       "      <td>2.22</td>\n",
       "      <td>0.0</td>\n",
       "      <td>23.02</td>\n",
       "      <td>3.69</td>\n",
       "      <td>0.0</td>\n",
       "      <td>3.6</td>\n",
       "      <td>6.0</td>\n",
       "      <td>48.8</td>\n",
       "      <td>0.0</td>\n",
       "      <td>4.7</td>\n",
       "    </tr>\n",
       "    <tr>\n",
       "      <th>2003-01-01 03:30:00</th>\n",
       "      <td>1.77</td>\n",
       "      <td>0.0</td>\n",
       "      <td>23.02</td>\n",
       "      <td>3.69</td>\n",
       "      <td>0.0</td>\n",
       "      <td>3.2</td>\n",
       "      <td>5.0</td>\n",
       "      <td>66.5</td>\n",
       "      <td>0.0</td>\n",
       "      <td>4.3</td>\n",
       "    </tr>\n",
       "    <tr>\n",
       "      <th>2003-01-01 04:30:00</th>\n",
       "      <td>1.69</td>\n",
       "      <td>0.0</td>\n",
       "      <td>23.02</td>\n",
       "      <td>3.69</td>\n",
       "      <td>0.0</td>\n",
       "      <td>3.0</td>\n",
       "      <td>5.0</td>\n",
       "      <td>80.6</td>\n",
       "      <td>0.0</td>\n",
       "      <td>4.0</td>\n",
       "    </tr>\n",
       "  </tbody>\n",
       "</table>\n",
       "</div>"
      ],
      "text/plain": [
       "                     External dew-point temp.  Global radiation  \\\n",
       "datetime                                                          \n",
       "2003-01-01 00:30:00                       NaN               NaN   \n",
       "2003-01-01 01:30:00                      2.08               0.0   \n",
       "2003-01-01 02:30:00                      2.22               0.0   \n",
       "2003-01-01 03:30:00                      1.77               0.0   \n",
       "2003-01-01 04:30:00                      1.69               0.0   \n",
       "\n",
       "                     Max. adaptive temp.  Daily running mean temp.  \\\n",
       "datetime                                                             \n",
       "2003-01-01 00:30:00                  NaN                       NaN   \n",
       "2003-01-01 01:30:00                23.02                      3.69   \n",
       "2003-01-01 02:30:00                23.02                      3.69   \n",
       "2003-01-01 03:30:00                23.02                      3.69   \n",
       "2003-01-01 04:30:00                23.02                      3.69   \n",
       "\n",
       "                     Direct radiation  Wet-bulb temperature  Wind speed  \\\n",
       "datetime                                                                  \n",
       "2003-01-01 00:30:00               NaN                   NaN         NaN   \n",
       "2003-01-01 01:30:00               0.0                   3.6         5.0   \n",
       "2003-01-01 02:30:00               0.0                   3.6         6.0   \n",
       "2003-01-01 03:30:00               0.0                   3.2         5.0   \n",
       "2003-01-01 04:30:00               0.0                   3.0         5.0   \n",
       "\n",
       "                     Solar azimuth  Diffuse radiation  Dry-bulb temperature  \n",
       "datetime                                                                     \n",
       "2003-01-01 00:30:00            NaN                NaN                   NaN  \n",
       "2003-01-01 01:30:00           25.7                0.0                   4.8  \n",
       "2003-01-01 02:30:00           48.8                0.0                   4.7  \n",
       "2003-01-01 03:30:00           66.5                0.0                   4.3  \n",
       "2003-01-01 04:30:00           80.6                0.0                   4.0  "
      ]
     },
     "execution_count": 2,
     "metadata": {},
     "output_type": "execute_result"
    }
   ],
   "source": [
    "import pandas as pd\n",
    "df=pd.read_csv(filename,sep='\\t',encoding = 'unicode_escape')\n",
    "df=df.drop([0,1])\n",
    "df['Unnamed: 0']=df['Unnamed: 0'].fillna(method='ffill')\n",
    "df['Unnamed: 0']=df['Unnamed: 0'].str[5:] + r'/2003'\n",
    "mask=(df['Unnamed: 1']=='24:00')\n",
    "df['Unnamed: 1'][mask]='00:00'\n",
    "df['Unnamed: 1']=df['Unnamed: 1'].str[:3]+'30'\n",
    "df.insert(0,column='datetime',value=pd.to_datetime(df['Unnamed: 0']+' '+df['Unnamed: 1'],format='%d/%b/%Y %H:%M'))\n",
    "df=df.drop(columns=['Unnamed: 0','Unnamed: 1'])\n",
    "df=df.set_index('datetime')\n",
    "df=df.astype('float64')\n",
    "units={}\n",
    "for column in df.columns: \n",
    "    var_name=column.split(' (')[0]\n",
    "    unit=column.split(' (')[1].split(')')[0]\n",
    "    df=df.rename(columns={column:var_name})\n",
    "    units[var_name]=unit\n",
    "print('UNITS: '+str(units))\n",
    "df.head()"
   ]
  },
  {
   "cell_type": "markdown",
   "metadata": {},
   "source": [
    "## Step 3: View the weather variables available"
   ]
  },
  {
   "cell_type": "code",
   "execution_count": 3,
   "metadata": {},
   "outputs": [
    {
     "name": "stdout",
     "output_type": "stream",
     "text": [
      "External dew-point temp.\n",
      "Global radiation\n",
      "Max. adaptive temp.\n",
      "Daily running mean temp.\n",
      "Direct radiation\n",
      "Wet-bulb temperature\n",
      "Wind speed\n",
      "Solar azimuth\n",
      "Diffuse radiation\n",
      "Dry-bulb temperature\n"
     ]
    }
   ],
   "source": [
    "for x in list(df.columns): print(x)"
   ]
  },
  {
   "cell_type": "markdown",
   "metadata": {},
   "source": [
    "## Step 4: Choose the weather variable to analysis\n",
    "\n",
    "The weather variables are listed in Step 3. One variable is chosen for analysis in the code cell below."
   ]
  },
  {
   "cell_type": "code",
   "execution_count": 4,
   "metadata": {},
   "outputs": [],
   "source": [
    "var='Dry-bulb temperature'"
   ]
  },
  {
   "cell_type": "markdown",
   "metadata": {},
   "source": [
    "## Step 5: Create and save a mothly mean time-series plot\n",
    "\n",
    "Calculates the mean of the variable for each month, and plots this on a time-series plot."
   ]
  },
  {
   "cell_type": "code",
   "execution_count": 53,
   "metadata": {},
   "outputs": [
    {
     "name": "stdout",
     "output_type": "stream",
     "text": [
      "VARIABLE: Dry-bulb temperature\n",
      "PLOT_FILENAME: monthly_visualisation_outputs/monthly_mean_timeseries_Dry-bulb temperature.png\n"
     ]
    },
    {
     "data": {
      "image/png": "[encoded data removed]",
      "text/plain": [
       "<Figure size 864x288 with 1 Axes>"
      ]
     },
     "metadata": {
      "needs_background": "light"
     },
     "output_type": "display_data"
    }
   ],
   "source": [
    "%matplotlib inline\n",
    "import matplotlib.pyplot as plt\n",
    "import matplotlib.dates as mdates\n",
    "from pandas.plotting import register_matplotlib_converters\n",
    "register_matplotlib_converters()\n",
    "fig, ax = plt.subplots(1,figsize=(12,4))\n",
    "x=df[var].resample('1M').mean()\n",
    "x.index=x.index.strftime('%b')\n",
    "ax.plot(x,marker='*',color='black',linewidth=0.5)\n",
    "ax.set_xlabel('Month')\n",
    "ax.set_ylabel(var + ' (' + units[var] + ')')\n",
    "plot_filename=r'monthly_visualisation_outputs/monthly_mean_timeseries_'+var+'.png'\n",
    "print('VARIABLE: '+var)\n",
    "print('PLOT_FILENAME: '+plot_filename)\n",
    "plt.savefig(plot_filename, bbox_inches='tight')\n",
    "plt.show()"
   ]
  },
  {
   "cell_type": "markdown",
   "metadata": {},
   "source": [
    "## Step 6: Create and save a monthly mean max min time-series plot\n",
    "\n",
    "Calculates the mean, maximum and minimum of the variable for each month, and plots this on a time-series plot."
   ]
  },
  {
   "cell_type": "code",
   "execution_count": 63,
   "metadata": {},
   "outputs": [
    {
     "name": "stdout",
     "output_type": "stream",
     "text": [
      "VARIABLE: Dry-bulb temperature\n",
      "PLOT_FILENAME: monthly_visualisation_outputs/monthly_mean_max_min_timeseries_Dry-bulb temperature.png\n"
     ]
    },
    {
     "data": {
      "image/png": "[encoded data removed]",
      "text/plain": [
       "<Figure size 864x288 with 1 Axes>"
      ]
     },
     "metadata": {
      "needs_background": "light"
     },
     "output_type": "display_data"
    }
   ],
   "source": [
    "fig, ax = plt.subplots(1,figsize=(12,4))\n",
    "mean=df[var].resample('1M').mean()\n",
    "max=df[var].resample('1M').max()\n",
    "min=df[var].resample('1M').min()\n",
    "ax.plot(mean.index.strftime('%b'),mean,color='black',linewidth=1,marker='*',label='monthly mean')\n",
    "ax.plot(max.index.strftime('%b'),max,'--',color='black',linewidth=0.5,label='monthly maximum')\n",
    "ax.plot(min.index.strftime('%b'),min,'-.',color='black',linewidth=0.5,label='monthly minimum')\n",
    "ax.set_xlabel('Month')\n",
    "ax.set_ylabel(var + ' (' + units[var] + ')')\n",
    "ax.legend(loc='upper right')\n",
    "plot_filename=r'monthly_visualisation_outputs/monthly_mean_max_min_timeseries_'+var+'.png'\n",
    "print('VARIABLE: '+var)\n",
    "print('PLOT_FILENAME: '+plot_filename)\n",
    "plt.savefig(plot_filename, bbox_inches='tight')\n",
    "plt.show()"
   ]
  },
  {
   "cell_type": "markdown",
   "metadata": {},
   "source": [
    "## Step 7: Create and save a monthly boxplot"
   ]
  },
  {
   "cell_type": "code",
   "execution_count": 65,
   "metadata": {},
   "outputs": [
    {
     "name": "stdout",
     "output_type": "stream",
     "text": [
      "VARIABLE: Dry-bulb temperature\n",
      "PLOT_FILENAME: monthly_visualisation_outputs/monthly_boxplot_Dry-bulb temperature.png\n"
     ]
    },
    {
     "data": {
      "image/png": "[encoded data removed]",
      "text/plain": [
       "<Figure size 864x288 with 1 Axes>"
      ]
     },
     "metadata": {
      "needs_background": "light"
     },
     "output_type": "display_data"
    }
   ],
   "source": [
    "l=[]\n",
    "for i in range(1,13):\n",
    "    mask=df.index.month==i\n",
    "    l.append(df[var][mask].dropna().values)\n",
    "fig, ax = plt.subplots(1,figsize=(12,4))\n",
    "ax.boxplot(l)\n",
    "ax.set_xlabel('Month')\n",
    "ax.set_xticklabels(df[var].resample('1M').mean().index.strftime('%b'))\n",
    "ax.set_ylabel(var + ' (' + units[var] + ')')\n",
    "plot_filename=r'monthly_visualisation_outputs/monthly_boxplot_'+var+'.png'\n",
    "print('VARIABLE: '+var)\n",
    "print('PLOT_FILENAME: '+plot_filename)\n",
    "plt.savefig(plot_filename, bbox_inches='tight')\n",
    "plt.show()"
   ]
  },
  {
   "cell_type": "code",
   "execution_count": null,
   "metadata": {},
   "outputs": [],
   "source": []
  }
 ],
 "metadata": {
  "kernelspec": {
   "display_name": "Python 3",
   "language": "python",
   "name": "python3"
  },
  "language_info": {
   "codemirror_mode": {
    "name": "ipython",
    "version": 3
   },
   "file_extension": ".py",
   "mimetype": "text/x-python",
   "name": "python",
   "nbconvert_exporter": "python",
   "pygments_lexer": "ipython3",
   "version": "3.7.3"
  }
 },
 "nbformat": 4,
 "nbformat_minor": 2
}
