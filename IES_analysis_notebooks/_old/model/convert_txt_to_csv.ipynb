{
 "cells": [
  {
   "cell_type": "markdown",
   "metadata": {},
   "source": [
    "# convert_txt_to_csv\n",
    "\n",
    "This notebook converts an IES model .txt file into a formatted csv file ready for analysis in Excel or other software.\n",
    "\n",
    "Use ***Shift-Enter*** or ***Ctrl-Enter*** to run the code cells."
   ]
  },
  {
   "cell_type": "markdown",
   "metadata": {},
   "source": [
    "## Step 1: Choose the file to convert\n",
    "\n",
    "The filename of the file to be converted is set in the cell below. Modify this as needed and then run the cell."
   ]
  },
  {
   "cell_type": "code",
   "execution_count": 1,
   "metadata": {},
   "outputs": [],
   "source": [
    "filename='MyModelData.txt'"
   ]
  },
  {
   "cell_type": "markdown",
   "metadata": {},
   "source": [
    "## Step 2: Run the code below to convert the file\n",
    "\n",
    "The cell below converts the file. The new file is saved as a .csv file The filename is the original filename in Step 1 with an additional '.csv' extension. The first 5 rows of the new file are displayed in the cell output in this notebook."
   ]
  },
  {
   "cell_type": "code",
   "execution_count": 22,
   "metadata": {},
   "outputs": [
    {
     "name": "stdout",
     "output_type": "stream",
     "text": [
      "NEW FILENAME:convert_txt_to_csv_outputs/MyModelData.txt.csv\n"
     ]
    },
    {
     "data": {
      "text/html": [
       "<div>\n",
       "<style scoped>\n",
       "    .dataframe tbody tr th:only-of-type {\n",
       "        vertical-align: middle;\n",
       "    }\n",
       "\n",
       "    .dataframe tbody tr th {\n",
       "        vertical-align: top;\n",
       "    }\n",
       "\n",
       "    .dataframe thead tr th {\n",
       "        text-align: left;\n",
       "    }\n",
       "\n",
       "    .dataframe thead tr:last-of-type th {\n",
       "        text-align: right;\n",
       "    }\n",
       "</style>\n",
       "<table border=\"1\" class=\"dataframe\">\n",
       "  <thead>\n",
       "    <tr>\n",
       "      <th></th>\n",
       "      <th colspan=\"6\" halign=\"left\">Air temperature (°C)</th>\n",
       "    </tr>\n",
       "    <tr>\n",
       "      <th></th>\n",
       "      <th>North Zone</th>\n",
       "      <th>East Zone</th>\n",
       "      <th>South Zone</th>\n",
       "      <th>Internal Zone</th>\n",
       "      <th>West Zone</th>\n",
       "      <th>ROOF</th>\n",
       "    </tr>\n",
       "    <tr>\n",
       "      <th></th>\n",
       "      <th>Small_Office.aps</th>\n",
       "      <th>Small_Office.aps</th>\n",
       "      <th>Small_Office.aps</th>\n",
       "      <th>Small_Office.aps</th>\n",
       "      <th>Small_Office.aps</th>\n",
       "      <th>Small_Office.aps</th>\n",
       "    </tr>\n",
       "    <tr>\n",
       "      <th>datetime</th>\n",
       "      <th></th>\n",
       "      <th></th>\n",
       "      <th></th>\n",
       "      <th></th>\n",
       "      <th></th>\n",
       "      <th></th>\n",
       "    </tr>\n",
       "  </thead>\n",
       "  <tbody>\n",
       "    <tr>\n",
       "      <th>2003-01-01 00:30:00</th>\n",
       "      <td>19.0</td>\n",
       "      <td>19.0</td>\n",
       "      <td>19.0</td>\n",
       "      <td>19.0</td>\n",
       "      <td>19.0</td>\n",
       "      <td>19.0</td>\n",
       "    </tr>\n",
       "    <tr>\n",
       "      <th>2003-01-01 01:30:00</th>\n",
       "      <td>19.0</td>\n",
       "      <td>19.0</td>\n",
       "      <td>19.0</td>\n",
       "      <td>19.0</td>\n",
       "      <td>19.0</td>\n",
       "      <td>19.0</td>\n",
       "    </tr>\n",
       "    <tr>\n",
       "      <th>2003-01-01 02:30:00</th>\n",
       "      <td>19.0</td>\n",
       "      <td>19.0</td>\n",
       "      <td>19.0</td>\n",
       "      <td>19.0</td>\n",
       "      <td>19.0</td>\n",
       "      <td>19.0</td>\n",
       "    </tr>\n",
       "    <tr>\n",
       "      <th>2003-01-01 03:30:00</th>\n",
       "      <td>19.0</td>\n",
       "      <td>19.0</td>\n",
       "      <td>19.0</td>\n",
       "      <td>19.0</td>\n",
       "      <td>19.0</td>\n",
       "      <td>19.0</td>\n",
       "    </tr>\n",
       "    <tr>\n",
       "      <th>2003-01-01 04:30:00</th>\n",
       "      <td>19.0</td>\n",
       "      <td>19.0</td>\n",
       "      <td>19.0</td>\n",
       "      <td>19.0</td>\n",
       "      <td>19.0</td>\n",
       "      <td>19.0</td>\n",
       "    </tr>\n",
       "  </tbody>\n",
       "</table>\n",
       "</div>"
      ],
      "text/plain": [
       "                    Air temperature (°C)                                    \\\n",
       "                              North Zone        East Zone       South Zone   \n",
       "                        Small_Office.aps Small_Office.aps Small_Office.aps   \n",
       "datetime                                                                     \n",
       "2003-01-01 00:30:00                 19.0             19.0             19.0   \n",
       "2003-01-01 01:30:00                 19.0             19.0             19.0   \n",
       "2003-01-01 02:30:00                 19.0             19.0             19.0   \n",
       "2003-01-01 03:30:00                 19.0             19.0             19.0   \n",
       "2003-01-01 04:30:00                 19.0             19.0             19.0   \n",
       "\n",
       "                                                                        \n",
       "                       Internal Zone        West Zone             ROOF  \n",
       "                    Small_Office.aps Small_Office.aps Small_Office.aps  \n",
       "datetime                                                                \n",
       "2003-01-01 00:30:00             19.0             19.0             19.0  \n",
       "2003-01-01 01:30:00             19.0             19.0             19.0  \n",
       "2003-01-01 02:30:00             19.0             19.0             19.0  \n",
       "2003-01-01 03:30:00             19.0             19.0             19.0  \n",
       "2003-01-01 04:30:00             19.0             19.0             19.0  "
      ]
     },
     "execution_count": 22,
     "metadata": {},
     "output_type": "execute_result"
    }
   ],
   "source": [
    "import pandas as pd\n",
    "df=pd.read_csv(filename,sep='\\t',encoding = 'unicode_escape',header=[0,1,2])\n",
    "df[df.columns[0]]=df[df.columns[0]].fillna(method='ffill')\n",
    "df[df.columns[0]]=df[df.columns[0]].str[5:] + r'/2003'\n",
    "df.insert(0,column='datetime',value=pd.to_datetime(df[df.columns[0]]+' '+df[df.columns[1]],format='%d/%b/%Y %H:%M'))\n",
    "df=df.drop(columns=[df.columns[1],df.columns[2]])\n",
    "df=df.set_index(df.columns[0])\n",
    "df.index=df.index.rename('datetime')\n",
    "new_filename=r'convert_txt_to_csv_outputs/'+filename+'.csv'\n",
    "df.to_csv(new_filename)\n",
    "print('NEW FILENAME:' + new_filename)\n",
    "df.head()"
   ]
  },
  {
   "cell_type": "markdown",
   "metadata": {},
   "source": [
    "## Explanation\n",
    "\n",
    "The model data in IES VistaPro can be exported using the Save icon when viewing a table. To do this:\n",
    "\n",
    "- Run an IES simulation\n",
    "- Go to the VistaPro results module\n",
    "- Select the rooms of interest\n",
    "- Select the model variables of interest\n",
    "- View these variable in a table\n",
    "- Click on the *save* icon to export this data as a .txt file.\n",
    "\n",
    "The exported text file is not a user-firendly format. It has 2 header rows. The dates are recorded in a non-standard format (i.e. 'Wed, 01/Jan') and the dates recorded hourly on the half hour. The data and time values are also seperate columns. These features make it difficult to directly use the .txt file for analysis.\n",
    "\n",
    "This notebook opens the .txt file, modifies the data, and then saves a newly formatted version as a comma separated variable .csv file. The new file has a single header row and standard-format datetime column (which contains the date and the time for each row). The new .csv file can be opened in Excel or python for analysis and visualisation.\n",
    "\n",
    "Once converted, the columns in the DataFrame are accessed using the variable name, the room name and the results file name as follows:"
   ]
  },
  {
   "cell_type": "code",
   "execution_count": 24,
   "metadata": {},
   "outputs": [
    {
     "data": {
      "text/plain": [
       "datetime\n",
       "2003-01-01 00:30:00    19.0\n",
       "2003-01-01 01:30:00    19.0\n",
       "2003-01-01 02:30:00    19.0\n",
       "2003-01-01 03:30:00    19.0\n",
       "2003-01-01 04:30:00    19.0\n",
       "Name: Small_Office.aps, dtype: float64"
      ]
     },
     "execution_count": 24,
     "metadata": {},
     "output_type": "execute_result"
    }
   ],
   "source": [
    "df['Air temperature (°C)']['South Zone']['Small_Office.aps'].head()"
   ]
  }
 ],
 "metadata": {
  "kernelspec": {
   "display_name": "Python 3",
   "language": "python",
   "name": "python3"
  },
  "language_info": {
   "codemirror_mode": {
    "name": "ipython",
    "version": 3
   },
   "file_extension": ".py",
   "mimetype": "text/x-python",
   "name": "python",
   "nbconvert_exporter": "python",
   "pygments_lexer": "ipython3",
   "version": "3.7.3"
  }
 },
 "nbformat": 4,
 "nbformat_minor": 2
}
