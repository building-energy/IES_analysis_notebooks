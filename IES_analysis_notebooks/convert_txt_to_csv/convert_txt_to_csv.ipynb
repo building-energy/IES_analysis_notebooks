{
 "cells": [
  {
   "cell_type": "markdown",
   "metadata": {},
   "source": [
    "# convert_txt_to_csv\n",
    "\n",
    "This notebook converts an IES results .txt file into a formatted csv file ready for analysis in Excel or other software.\n",
    "\n",
    "Use ***Shift-Enter*** or ***Ctrl-Enter*** to run the code cells."
   ]
  },
  {
   "cell_type": "markdown",
   "metadata": {},
   "source": [
    "## Step 1: Choose the file to convert\n",
    "\n",
    "The filename of the file to be converted is set in the cell below. Modify this as needed and then run the cell."
   ]
  },
  {
   "cell_type": "code",
   "execution_count": 8,
   "metadata": {},
   "outputs": [],
   "source": [
    "filename='MyWeather.txt'"
   ]
  },
  {
   "cell_type": "markdown",
   "metadata": {},
   "source": [
    "## Step 2: Run the code below to convert the file\n",
    "\n",
    "The cell below converts the file. The new file is saved as a .csv file The filename is the original filename in Step 1 with an additional '.csv' extension. The first 5 rows of the new file are displayed in the cell output in this notebook."
   ]
  },
  {
   "cell_type": "code",
   "execution_count": 148,
   "metadata": {},
   "outputs": [],
   "source": [
    "import pandas as pd\n",
    "def convert_txt_to_csv(filename):\n",
    "    try:\n",
    "        df=pd.read_csv(filename,sep='\\t',encoding = 'unicode_escape',header=[0,1,2])\n",
    "        df.columns=pd.MultiIndex.from_arrays([df.columns.get_level_values(0),\n",
    "                                              [x if not x.startswith('Unnamed') else 'NA' for x in df.columns.get_level_values(1)],\n",
    "                                              df.columns.get_level_values(2)])\n",
    "    except pd.errors.ParserError:\n",
    "        df=pd.read_csv(filename,sep='\\t',encoding = 'unicode_escape',header=[0,2])\n",
    "        df.columns=pd.MultiIndex.from_arrays([df.columns.get_level_values(0),\n",
    "                                              ['NA']*len(df.columns.get_level_values(0)),\n",
    "                                              df.columns.get_level_values(1)])\n",
    "    df.columns=df.columns.set_names(['variable_name', 'zone_name','file_name'])\n",
    "    \n",
    "    df[df.columns[0]]=df[df.columns[0]].fillna(method='ffill')\n",
    "    df[df.columns[0]]=df[df.columns[0]].str[5:] + r'/2003'\n",
    "    df[df.columns[1]]=df[df.columns[1]].replace(to_replace='24:00',value='00:00')\n",
    "    df.insert(0,column='datetime',value=pd.to_datetime(df[df.columns[0]]+' '+df[df.columns[1]],format='%d/%b/%Y %H:%M'))\n",
    "    df=df.drop(columns=[df.columns[1],df.columns[2]])\n",
    "    df=df.set_index(df.columns[0])\n",
    "    df.index=df.index.rename('datetime')\n",
    "    \n",
    "    new_filename=filename+'.csv'\n",
    "    df.to_csv(new_filename)\n",
    "    print('NEW FILENAME: ' + new_filename)\n",
    "    return df"
   ]
  },
  {
   "cell_type": "code",
   "execution_count": 149,
   "metadata": {},
   "outputs": [
    {
     "name": "stdout",
     "output_type": "stream",
     "text": [
      "NEW FILENAME: MyResultsWeatherOnly.txt.csv\n"
     ]
    },
    {
     "data": {
      "text/html": [
       "<div>\n",
       "<style scoped>\n",
       "    .dataframe tbody tr th:only-of-type {\n",
       "        vertical-align: middle;\n",
       "    }\n",
       "\n",
       "    .dataframe tbody tr th {\n",
       "        vertical-align: top;\n",
       "    }\n",
       "\n",
       "    .dataframe thead tr th {\n",
       "        text-align: left;\n",
       "    }\n",
       "\n",
       "    .dataframe thead tr:last-of-type th {\n",
       "        text-align: right;\n",
       "    }\n",
       "</style>\n",
       "<table border=\"1\" class=\"dataframe\">\n",
       "  <thead>\n",
       "    <tr>\n",
       "      <th>variable_name</th>\n",
       "      <th>Dry-bulb temperature (°C)</th>\n",
       "    </tr>\n",
       "    <tr>\n",
       "      <th>zone_name</th>\n",
       "      <th>NA</th>\n",
       "    </tr>\n",
       "    <tr>\n",
       "      <th>file_name</th>\n",
       "      <th>KEW.FWT</th>\n",
       "    </tr>\n",
       "    <tr>\n",
       "      <th>datetime</th>\n",
       "      <th></th>\n",
       "    </tr>\n",
       "  </thead>\n",
       "  <tbody>\n",
       "    <tr>\n",
       "      <th>2003-01-01 00:00:00</th>\n",
       "      <td>NaN</td>\n",
       "    </tr>\n",
       "    <tr>\n",
       "      <th>2003-01-01 01:00:00</th>\n",
       "      <td>4.8</td>\n",
       "    </tr>\n",
       "    <tr>\n",
       "      <th>2003-01-01 02:00:00</th>\n",
       "      <td>4.7</td>\n",
       "    </tr>\n",
       "    <tr>\n",
       "      <th>2003-01-01 03:00:00</th>\n",
       "      <td>4.3</td>\n",
       "    </tr>\n",
       "    <tr>\n",
       "      <th>2003-01-01 04:00:00</th>\n",
       "      <td>4.0</td>\n",
       "    </tr>\n",
       "  </tbody>\n",
       "</table>\n",
       "</div>"
      ],
      "text/plain": [
       "variable_name       Dry-bulb temperature (°C)\n",
       "zone_name                                  NA\n",
       "file_name                             KEW.FWT\n",
       "datetime                                     \n",
       "2003-01-01 00:00:00                       NaN\n",
       "2003-01-01 01:00:00                       4.8\n",
       "2003-01-01 02:00:00                       4.7\n",
       "2003-01-01 03:00:00                       4.3\n",
       "2003-01-01 04:00:00                       4.0"
      ]
     },
     "execution_count": 149,
     "metadata": {},
     "output_type": "execute_result"
    }
   ],
   "source": [
    "filename='MyResultsWeatherOnly.txt'\n",
    "df=convert_txt_to_csv(filename)\n",
    "df.head()"
   ]
  },
  {
   "cell_type": "code",
   "execution_count": 150,
   "metadata": {},
   "outputs": [
    {
     "name": "stdout",
     "output_type": "stream",
     "text": [
      "NEW FILENAME: MyResultsModelOnly.txt.csv\n"
     ]
    },
    {
     "data": {
      "text/html": [
       "<div>\n",
       "<style scoped>\n",
       "    .dataframe tbody tr th:only-of-type {\n",
       "        vertical-align: middle;\n",
       "    }\n",
       "\n",
       "    .dataframe tbody tr th {\n",
       "        vertical-align: top;\n",
       "    }\n",
       "\n",
       "    .dataframe thead tr th {\n",
       "        text-align: left;\n",
       "    }\n",
       "\n",
       "    .dataframe thead tr:last-of-type th {\n",
       "        text-align: right;\n",
       "    }\n",
       "</style>\n",
       "<table border=\"1\" class=\"dataframe\">\n",
       "  <thead>\n",
       "    <tr>\n",
       "      <th>variable_name</th>\n",
       "      <th>Air temperature (°C)</th>\n",
       "    </tr>\n",
       "    <tr>\n",
       "      <th>zone_name</th>\n",
       "      <th>South Zone</th>\n",
       "    </tr>\n",
       "    <tr>\n",
       "      <th>file_name</th>\n",
       "      <th>Small_Office.aps</th>\n",
       "    </tr>\n",
       "    <tr>\n",
       "      <th>datetime</th>\n",
       "      <th></th>\n",
       "    </tr>\n",
       "  </thead>\n",
       "  <tbody>\n",
       "    <tr>\n",
       "      <th>2003-01-01 00:30:00</th>\n",
       "      <td>19.0</td>\n",
       "    </tr>\n",
       "    <tr>\n",
       "      <th>2003-01-01 01:30:00</th>\n",
       "      <td>19.0</td>\n",
       "    </tr>\n",
       "    <tr>\n",
       "      <th>2003-01-01 02:30:00</th>\n",
       "      <td>19.0</td>\n",
       "    </tr>\n",
       "    <tr>\n",
       "      <th>2003-01-01 03:30:00</th>\n",
       "      <td>19.0</td>\n",
       "    </tr>\n",
       "    <tr>\n",
       "      <th>2003-01-01 04:30:00</th>\n",
       "      <td>19.0</td>\n",
       "    </tr>\n",
       "  </tbody>\n",
       "</table>\n",
       "</div>"
      ],
      "text/plain": [
       "variable_name       Air temperature (°C)\n",
       "zone_name                     South Zone\n",
       "file_name               Small_Office.aps\n",
       "datetime                                \n",
       "2003-01-01 00:30:00                 19.0\n",
       "2003-01-01 01:30:00                 19.0\n",
       "2003-01-01 02:30:00                 19.0\n",
       "2003-01-01 03:30:00                 19.0\n",
       "2003-01-01 04:30:00                 19.0"
      ]
     },
     "execution_count": 150,
     "metadata": {},
     "output_type": "execute_result"
    }
   ],
   "source": [
    "filename='MyResultsModelOnly.txt'\n",
    "df=convert_txt_to_csv(filename)\n",
    "df.head()"
   ]
  },
  {
   "cell_type": "code",
   "execution_count": 151,
   "metadata": {},
   "outputs": [
    {
     "name": "stdout",
     "output_type": "stream",
     "text": [
      "NEW FILENAME: MyResultsWeatherAndModel.txt.csv\n"
     ]
    },
    {
     "data": {
      "text/html": [
       "<div>\n",
       "<style scoped>\n",
       "    .dataframe tbody tr th:only-of-type {\n",
       "        vertical-align: middle;\n",
       "    }\n",
       "\n",
       "    .dataframe tbody tr th {\n",
       "        vertical-align: top;\n",
       "    }\n",
       "\n",
       "    .dataframe thead tr th {\n",
       "        text-align: left;\n",
       "    }\n",
       "\n",
       "    .dataframe thead tr:last-of-type th {\n",
       "        text-align: right;\n",
       "    }\n",
       "</style>\n",
       "<table border=\"1\" class=\"dataframe\">\n",
       "  <thead>\n",
       "    <tr>\n",
       "      <th>variable_name</th>\n",
       "      <th>Air temperature (°C)</th>\n",
       "      <th>Dry-bulb temperature (°C)</th>\n",
       "    </tr>\n",
       "    <tr>\n",
       "      <th>zone_name</th>\n",
       "      <th>South Zone</th>\n",
       "      <th>NA</th>\n",
       "    </tr>\n",
       "    <tr>\n",
       "      <th>file_name</th>\n",
       "      <th>Small_Office.aps</th>\n",
       "      <th>KEW.FWT</th>\n",
       "    </tr>\n",
       "    <tr>\n",
       "      <th>datetime</th>\n",
       "      <th></th>\n",
       "      <th></th>\n",
       "    </tr>\n",
       "  </thead>\n",
       "  <tbody>\n",
       "    <tr>\n",
       "      <th>2003-01-01 00:00:00</th>\n",
       "      <td>NaN</td>\n",
       "      <td>NaN</td>\n",
       "    </tr>\n",
       "    <tr>\n",
       "      <th>2003-01-01 00:30:00</th>\n",
       "      <td>19.0</td>\n",
       "      <td>NaN</td>\n",
       "    </tr>\n",
       "    <tr>\n",
       "      <th>2003-01-01 01:00:00</th>\n",
       "      <td>NaN</td>\n",
       "      <td>4.8</td>\n",
       "    </tr>\n",
       "    <tr>\n",
       "      <th>2003-01-01 01:30:00</th>\n",
       "      <td>19.0</td>\n",
       "      <td>NaN</td>\n",
       "    </tr>\n",
       "    <tr>\n",
       "      <th>2003-01-01 02:00:00</th>\n",
       "      <td>NaN</td>\n",
       "      <td>4.7</td>\n",
       "    </tr>\n",
       "  </tbody>\n",
       "</table>\n",
       "</div>"
      ],
      "text/plain": [
       "variable_name       Air temperature (°C) Dry-bulb temperature (°C)\n",
       "zone_name                     South Zone                        NA\n",
       "file_name               Small_Office.aps                   KEW.FWT\n",
       "datetime                                                          \n",
       "2003-01-01 00:00:00                  NaN                       NaN\n",
       "2003-01-01 00:30:00                 19.0                       NaN\n",
       "2003-01-01 01:00:00                  NaN                       4.8\n",
       "2003-01-01 01:30:00                 19.0                       NaN\n",
       "2003-01-01 02:00:00                  NaN                       4.7"
      ]
     },
     "execution_count": 151,
     "metadata": {},
     "output_type": "execute_result"
    }
   ],
   "source": [
    "filename='MyResultsWeatherAndModel.txt'\n",
    "df=convert_txt_to_csv(filename)\n",
    "df.head()"
   ]
  },
  {
   "cell_type": "markdown",
   "metadata": {},
   "source": [
    "## Explanation\n",
    "\n",
    "The weather data in IES VistaPro can be exported using the Save icon when viewing a table. To do this:\n",
    "\n",
    "- Run an IES simulation\n",
    "- Go to the VistaPro results module\n",
    "- Select the weather data variables of interest\n",
    "- View these variable in a table\n",
    "- Click on the *save* icon to export this data as a .txt file.\n",
    "\n",
    "The exported text file is not a user-firendly format. It has 2 header rows. The dates are recorded in a non-standard format (i.e. 'Wed, 01/Jan') and the dates only recorded at the first hour of each day rather than on each hourly row. The times include '24:00' rather than '00:00' to represent midnight. The data and time values are also seperate columns. These features make it difficult to directly use the .txt file for analysis.\n",
    "\n",
    "This notebook opens the .txt file, modifies the data, and then saves a newly formatted version as a comma separated variable .csv file. The new file has a single header row and standard-format datetime column (which contains the date and the time for each row). The new .csv file can be opened in Excel or python for analysis and visualisation.\n"
   ]
  },
  {
   "cell_type": "markdown",
   "metadata": {},
   "source": [
    "## Extra\n",
    "\n",
    "To reload a csv file created by this notebook, the following can be used:"
   ]
  },
  {
   "cell_type": "code",
   "execution_count": 162,
   "metadata": {},
   "outputs": [
    {
     "data": {
      "text/html": [
       "<div>\n",
       "<style scoped>\n",
       "    .dataframe tbody tr th:only-of-type {\n",
       "        vertical-align: middle;\n",
       "    }\n",
       "\n",
       "    .dataframe tbody tr th {\n",
       "        vertical-align: top;\n",
       "    }\n",
       "\n",
       "    .dataframe thead tr th {\n",
       "        text-align: left;\n",
       "    }\n",
       "\n",
       "    .dataframe thead tr:last-of-type th {\n",
       "        text-align: right;\n",
       "    }\n",
       "</style>\n",
       "<table border=\"1\" class=\"dataframe\">\n",
       "  <thead>\n",
       "    <tr>\n",
       "      <th>variable_name</th>\n",
       "      <th>Dry-bulb temperature (°C)</th>\n",
       "    </tr>\n",
       "    <tr>\n",
       "      <th>zone_name</th>\n",
       "      <th>NA</th>\n",
       "    </tr>\n",
       "    <tr>\n",
       "      <th>file_name</th>\n",
       "      <th>KEW.FWT</th>\n",
       "    </tr>\n",
       "    <tr>\n",
       "      <th>datetime</th>\n",
       "      <th></th>\n",
       "    </tr>\n",
       "  </thead>\n",
       "  <tbody>\n",
       "    <tr>\n",
       "      <th>2003-01-01 00:00:00</th>\n",
       "      <td>NaN</td>\n",
       "    </tr>\n",
       "    <tr>\n",
       "      <th>2003-01-01 01:00:00</th>\n",
       "      <td>4.8</td>\n",
       "    </tr>\n",
       "    <tr>\n",
       "      <th>2003-01-01 02:00:00</th>\n",
       "      <td>4.7</td>\n",
       "    </tr>\n",
       "    <tr>\n",
       "      <th>2003-01-01 03:00:00</th>\n",
       "      <td>4.3</td>\n",
       "    </tr>\n",
       "    <tr>\n",
       "      <th>2003-01-01 04:00:00</th>\n",
       "      <td>4.0</td>\n",
       "    </tr>\n",
       "  </tbody>\n",
       "</table>\n",
       "</div>"
      ],
      "text/plain": [
       "variable_name       Dry-bulb temperature (°C)\n",
       "zone_name                                  NA\n",
       "file_name                             KEW.FWT\n",
       "datetime                                     \n",
       "2003-01-01 00:00:00                       NaN\n",
       "2003-01-01 01:00:00                       4.8\n",
       "2003-01-01 02:00:00                       4.7\n",
       "2003-01-01 03:00:00                       4.3\n",
       "2003-01-01 04:00:00                       4.0"
      ]
     },
     "execution_count": 162,
     "metadata": {},
     "output_type": "execute_result"
    }
   ],
   "source": [
    "df=pd.read_csv('MyResultsWeatherOnly.txt.csv',header=[0,1,2],index_col=0,parse_dates=True)\n",
    "df.head()"
   ]
  },
  {
   "cell_type": "code",
   "execution_count": null,
   "metadata": {},
   "outputs": [],
   "source": []
  }
 ],
 "metadata": {
  "kernelspec": {
   "display_name": "Python 3",
   "language": "python",
   "name": "python3"
  },
  "language_info": {
   "codemirror_mode": {
    "name": "ipython",
    "version": 3
   },
   "file_extension": ".py",
   "mimetype": "text/x-python",
   "name": "python",
   "nbconvert_exporter": "python",
   "pygments_lexer": "ipython3",
   "version": "3.7.3"
  }
 },
 "nbformat": 4,
 "nbformat_minor": 2
}
